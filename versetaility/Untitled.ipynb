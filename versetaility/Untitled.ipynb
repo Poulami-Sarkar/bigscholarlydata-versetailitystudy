{
 "cells": [
  {
   "cell_type": "code",
   "execution_count": 1,
   "metadata": {},
   "outputs": [],
   "source": [
    "import mysql.connector\n",
    "import json\n",
    "from os import path\n",
    "import re\n",
    "import pandas as pd\n",
    "import numpy as np"
   ]
  },
  {
   "cell_type": "code",
   "execution_count": 2,
   "metadata": {},
   "outputs": [],
   "source": [
    "def dbConnect():\n",
    "\tcnx = mysql.connector.connect(user='root', password='Root@123',host ='localhost',database='bsd',use_pure=True)\n",
    "\tcursor = cnx.cursor()\n",
    "\tcursor.execute('set global max_allowed_packet=67108864')\n",
    "\treturn cnx,cursor"
   ]
  },
  {
   "cell_type": "code",
   "execution_count": 3,
   "metadata": {},
   "outputs": [],
   "source": [
    "con,cur = dbConnect()"
   ]
  },
  {
   "cell_type": "code",
   "execution_count": 4,
   "metadata": {},
   "outputs": [],
   "source": [
    "def dbExecute(cursor,sql):\n",
    "\tcursor.execute(sql)\n",
    "\trows = cursor.fetchall()\n",
    "\treturn rows"
   ]
  },
  {
   "cell_type": "code",
   "execution_count": 24,
   "metadata": {},
   "outputs": [],
   "source": [
    "sql = 'select distinct author_ID, author_name from Authors_SE;'\n",
    "authors = dbExecute(cur,sql)"
   ]
  },
  {
   "cell_type": "code",
   "execution_count": 25,
   "metadata": {
    "scrolled": true
   },
   "outputs": [],
   "source": [
    "def get_author_topics(authors,cur,thresh):\n",
    "    author_topic = {}\n",
    "    for auth_id, auth_name in authors[:]:\n",
    "        sql = \"select topic_id, count(*) from DocTopic_20k_3gram_SE_40 where \\\n",
    "        paper_id in ( \\\n",
    "        select distinct paper_ID paper_id from Paper_Author_Affiliations_SE where author_ID = '\"+ auth_id+\"') \\\n",
    "        and prob>\"+thresh+\"group by topic_id;\"\n",
    "        # Initialize no of publications in each topic to 0\n",
    "        topics = (dbExecute(cur,sql))\n",
    "        #author_topic[auth_id] = [('Topic_'+str(i),0) for i in range(40) if 'Topic_' + str(i) not in dict(topics)]\n",
    "        author_topic[auth_id] = dict(topics)\n",
    "    return author_topic"
   ]
  },
  {
   "cell_type": "code",
   "execution_count": 15,
   "metadata": {
    "scrolled": true
   },
   "outputs": [
    {
     "ename": "InternalError",
     "evalue": "Unread result found",
     "output_type": "error",
     "traceback": [
      "\u001b[0;31m---------------------------------------------------------------------------\u001b[0m",
      "\u001b[0;31mInternalError\u001b[0m                             Traceback (most recent call last)",
      "\u001b[0;32m<ipython-input-15-8118845377db>\u001b[0m in \u001b[0;36m<module>\u001b[0;34m\u001b[0m\n\u001b[0;32m----> 1\u001b[0;31m \u001b[0mauthor_topic\u001b[0m \u001b[0;34m=\u001b[0m \u001b[0mget_author_topics\u001b[0m\u001b[0;34m(\u001b[0m\u001b[0mauthors\u001b[0m\u001b[0;34m,\u001b[0m\u001b[0mcur\u001b[0m\u001b[0;34m,\u001b[0m\u001b[0mstr\u001b[0m\u001b[0;34m(\u001b[0m\u001b[0;36m0.1\u001b[0m\u001b[0;34m)\u001b[0m\u001b[0;34m)\u001b[0m\u001b[0;34m\u001b[0m\u001b[0;34m\u001b[0m\u001b[0m\n\u001b[0m\u001b[1;32m      2\u001b[0m \u001b[0mntopics\u001b[0m \u001b[0;34m=\u001b[0m \u001b[0mstr\u001b[0m\u001b[0;34m(\u001b[0m\u001b[0;36m40\u001b[0m\u001b[0;34m)\u001b[0m\u001b[0;34m\u001b[0m\u001b[0;34m\u001b[0m\u001b[0m\n\u001b[1;32m      3\u001b[0m \u001b[0;32mwith\u001b[0m \u001b[0mopen\u001b[0m\u001b[0;34m(\u001b[0m\u001b[0;34m'author_topic'\u001b[0m\u001b[0;34m+\u001b[0m\u001b[0mntopics\u001b[0m\u001b[0;34m+\u001b[0m\u001b[0;34m'.json'\u001b[0m\u001b[0;34m,\u001b[0m \u001b[0;34m'w'\u001b[0m\u001b[0;34m)\u001b[0m \u001b[0;32mas\u001b[0m \u001b[0mf\u001b[0m\u001b[0;34m:\u001b[0m\u001b[0;34m\u001b[0m\u001b[0;34m\u001b[0m\u001b[0m\n\u001b[1;32m      4\u001b[0m     \u001b[0mjson\u001b[0m\u001b[0;34m.\u001b[0m\u001b[0mdump\u001b[0m\u001b[0;34m(\u001b[0m\u001b[0mauthor_topic\u001b[0m\u001b[0;34m,\u001b[0m \u001b[0mf\u001b[0m\u001b[0;34m)\u001b[0m\u001b[0;34m\u001b[0m\u001b[0;34m\u001b[0m\u001b[0m\n\u001b[1;32m      5\u001b[0m \u001b[0mf\u001b[0m\u001b[0;34m.\u001b[0m\u001b[0mclose\u001b[0m\u001b[0;34m(\u001b[0m\u001b[0;34m)\u001b[0m\u001b[0;34m\u001b[0m\u001b[0;34m\u001b[0m\u001b[0m\n",
      "\u001b[0;32m<ipython-input-6-eff32b8c79c2>\u001b[0m in \u001b[0;36mget_author_topics\u001b[0;34m(authors, cur, thresh)\u001b[0m\n\u001b[1;32m      7\u001b[0m         \u001b[0;32mand\u001b[0m \u001b[0mprob\u001b[0m\u001b[0;34m>\u001b[0m\u001b[0;34m\"+thresh+\"\u001b[0m\u001b[0mgroup\u001b[0m \u001b[0mby\u001b[0m \u001b[0mtopic_id\u001b[0m\u001b[0;34m;\u001b[0m\u001b[0;31m\"\u001b[0m\u001b[0;34m\u001b[0m\u001b[0;34m\u001b[0m\u001b[0m\n\u001b[1;32m      8\u001b[0m         \u001b[0;31m# Initialize no of publications in each topic to 0\u001b[0m\u001b[0;34m\u001b[0m\u001b[0;34m\u001b[0m\u001b[0;34m\u001b[0m\u001b[0m\n\u001b[0;32m----> 9\u001b[0;31m         \u001b[0mtopics\u001b[0m \u001b[0;34m=\u001b[0m \u001b[0;34m(\u001b[0m\u001b[0mdbExecute\u001b[0m\u001b[0;34m(\u001b[0m\u001b[0mcur\u001b[0m\u001b[0;34m,\u001b[0m\u001b[0msql\u001b[0m\u001b[0;34m)\u001b[0m\u001b[0;34m)\u001b[0m\u001b[0;34m\u001b[0m\u001b[0;34m\u001b[0m\u001b[0m\n\u001b[0m\u001b[1;32m     10\u001b[0m         \u001b[0;31m#author_topic[auth_id] = [('Topic_'+str(i),0) for i in range(40) if 'Topic_' + str(i) not in dict(topics)]\u001b[0m\u001b[0;34m\u001b[0m\u001b[0;34m\u001b[0m\u001b[0;34m\u001b[0m\u001b[0m\n\u001b[1;32m     11\u001b[0m         \u001b[0mauthor_topic\u001b[0m\u001b[0;34m[\u001b[0m\u001b[0mauth_id\u001b[0m\u001b[0;34m]\u001b[0m \u001b[0;34m=\u001b[0m \u001b[0mdict\u001b[0m\u001b[0;34m(\u001b[0m\u001b[0mtopics\u001b[0m\u001b[0;34m)\u001b[0m\u001b[0;34m\u001b[0m\u001b[0;34m\u001b[0m\u001b[0m\n",
      "\u001b[0;32m<ipython-input-4-20c4eaa91adb>\u001b[0m in \u001b[0;36mdbExecute\u001b[0;34m(cursor, sql)\u001b[0m\n\u001b[1;32m      1\u001b[0m \u001b[0;32mdef\u001b[0m \u001b[0mdbExecute\u001b[0m\u001b[0;34m(\u001b[0m\u001b[0mcursor\u001b[0m\u001b[0;34m,\u001b[0m\u001b[0msql\u001b[0m\u001b[0;34m)\u001b[0m\u001b[0;34m:\u001b[0m\u001b[0;34m\u001b[0m\u001b[0;34m\u001b[0m\u001b[0m\n\u001b[0;32m----> 2\u001b[0;31m         \u001b[0mcursor\u001b[0m\u001b[0;34m.\u001b[0m\u001b[0mexecute\u001b[0m\u001b[0;34m(\u001b[0m\u001b[0msql\u001b[0m\u001b[0;34m)\u001b[0m\u001b[0;34m\u001b[0m\u001b[0;34m\u001b[0m\u001b[0m\n\u001b[0m\u001b[1;32m      3\u001b[0m         \u001b[0mrows\u001b[0m \u001b[0;34m=\u001b[0m \u001b[0mcursor\u001b[0m\u001b[0;34m.\u001b[0m\u001b[0mfetchall\u001b[0m\u001b[0;34m(\u001b[0m\u001b[0;34m)\u001b[0m\u001b[0;34m\u001b[0m\u001b[0;34m\u001b[0m\u001b[0m\n\u001b[1;32m      4\u001b[0m         \u001b[0;32mreturn\u001b[0m \u001b[0mrows\u001b[0m\u001b[0;34m\u001b[0m\u001b[0;34m\u001b[0m\u001b[0m\n",
      "\u001b[0;32m~/anaconda3/envs/work/lib/python3.7/site-packages/mysql/connector/cursor_cext.py\u001b[0m in \u001b[0;36mexecute\u001b[0;34m(self, operation, params, multi)\u001b[0m\n\u001b[1;32m    232\u001b[0m         \u001b[0;32mif\u001b[0m \u001b[0;32mnot\u001b[0m \u001b[0mself\u001b[0m\u001b[0;34m.\u001b[0m\u001b[0m_cnx\u001b[0m\u001b[0;34m:\u001b[0m\u001b[0;34m\u001b[0m\u001b[0;34m\u001b[0m\u001b[0m\n\u001b[1;32m    233\u001b[0m             \u001b[0;32mraise\u001b[0m \u001b[0merrors\u001b[0m\u001b[0;34m.\u001b[0m\u001b[0mProgrammingError\u001b[0m\u001b[0;34m(\u001b[0m\u001b[0;34m\"Cursor is not connected\"\u001b[0m\u001b[0;34m)\u001b[0m\u001b[0;34m\u001b[0m\u001b[0;34m\u001b[0m\u001b[0m\n\u001b[0;32m--> 234\u001b[0;31m         \u001b[0mself\u001b[0m\u001b[0;34m.\u001b[0m\u001b[0m_cnx\u001b[0m\u001b[0;34m.\u001b[0m\u001b[0mhandle_unread_result\u001b[0m\u001b[0;34m(\u001b[0m\u001b[0;34m)\u001b[0m\u001b[0;34m\u001b[0m\u001b[0;34m\u001b[0m\u001b[0m\n\u001b[0m\u001b[1;32m    235\u001b[0m \u001b[0;34m\u001b[0m\u001b[0m\n\u001b[1;32m    236\u001b[0m         \u001b[0mstmt\u001b[0m \u001b[0;34m=\u001b[0m \u001b[0;34m''\u001b[0m\u001b[0;34m\u001b[0m\u001b[0;34m\u001b[0m\u001b[0m\n",
      "\u001b[0;32m~/anaconda3/envs/work/lib/python3.7/site-packages/mysql/connector/connection_cext.py\u001b[0m in \u001b[0;36mhandle_unread_result\u001b[0;34m(self, prepared)\u001b[0m\n\u001b[1;32m    693\u001b[0m             \u001b[0mself\u001b[0m\u001b[0;34m.\u001b[0m\u001b[0mconsume_results\u001b[0m\u001b[0;34m(\u001b[0m\u001b[0;34m)\u001b[0m\u001b[0;34m\u001b[0m\u001b[0;34m\u001b[0m\u001b[0m\n\u001b[1;32m    694\u001b[0m         \u001b[0;32melif\u001b[0m \u001b[0munread_result\u001b[0m\u001b[0;34m:\u001b[0m\u001b[0;34m\u001b[0m\u001b[0;34m\u001b[0m\u001b[0m\n\u001b[0;32m--> 695\u001b[0;31m             \u001b[0;32mraise\u001b[0m \u001b[0merrors\u001b[0m\u001b[0;34m.\u001b[0m\u001b[0mInternalError\u001b[0m\u001b[0;34m(\u001b[0m\u001b[0;34m\"Unread result found\"\u001b[0m\u001b[0;34m)\u001b[0m\u001b[0;34m\u001b[0m\u001b[0;34m\u001b[0m\u001b[0m\n\u001b[0m",
      "\u001b[0;31mInternalError\u001b[0m: Unread result found"
     ]
    }
   ],
   "source": [
    "author_topic = get_author_topics(authors,cur,str(0.1))\n",
    "ntopics = str(40)\n",
    "with open('author_topic'+ntopics+'.json', 'w') as f:\n",
    "    json.dump(author_topic, f)\n",
    "f.close()"
   ]
  },
  {
   "cell_type": "code",
   "execution_count": 5,
   "metadata": {},
   "outputs": [],
   "source": [
    "domain = 'SE'\n",
    "ntopics = 40\n",
    "with open('../author_topic_'+domain+'_'+str(ntopics)+'.json', 'r') as f:\n",
    "    author_topic = json.load(f)"
   ]
  },
  {
   "cell_type": "code",
   "execution_count": 19,
   "metadata": {},
   "outputs": [
    {
     "data": {
      "text/html": [
       "<div>\n",
       "<style scoped>\n",
       "    .dataframe tbody tr th:only-of-type {\n",
       "        vertical-align: middle;\n",
       "    }\n",
       "\n",
       "    .dataframe tbody tr th {\n",
       "        vertical-align: top;\n",
       "    }\n",
       "\n",
       "    .dataframe thead th {\n",
       "        text-align: right;\n",
       "    }\n",
       "</style>\n",
       "<table border=\"1\" class=\"dataframe\">\n",
       "  <thead>\n",
       "    <tr style=\"text-align: right;\">\n",
       "      <th></th>\n",
       "      <th>auth_id</th>\n",
       "      <th>total_publications</th>\n",
       "      <th>total_active_year</th>\n",
       "      <th>no_of_paper_venues</th>\n",
       "      <th>h_index</th>\n",
       "    </tr>\n",
       "  </thead>\n",
       "  <tbody>\n",
       "    <tr>\n",
       "      <th>0</th>\n",
       "      <td>0000635D</td>\n",
       "      <td>2</td>\n",
       "      <td>1</td>\n",
       "      <td>1</td>\n",
       "      <td>0.000</td>\n",
       "    </tr>\n",
       "    <tr>\n",
       "      <th>1</th>\n",
       "      <td>00007F5E</td>\n",
       "      <td>2</td>\n",
       "      <td>2</td>\n",
       "      <td>2</td>\n",
       "      <td>0.250</td>\n",
       "    </tr>\n",
       "    <tr>\n",
       "      <th>2</th>\n",
       "      <td>00007F65</td>\n",
       "      <td>1</td>\n",
       "      <td>1</td>\n",
       "      <td>1</td>\n",
       "      <td>214.381</td>\n",
       "    </tr>\n",
       "    <tr>\n",
       "      <th>3</th>\n",
       "      <td>0001570C</td>\n",
       "      <td>22</td>\n",
       "      <td>14</td>\n",
       "      <td>8</td>\n",
       "      <td>NaN</td>\n",
       "    </tr>\n",
       "    <tr>\n",
       "      <th>4</th>\n",
       "      <td>0001C195</td>\n",
       "      <td>1</td>\n",
       "      <td>1</td>\n",
       "      <td>1</td>\n",
       "      <td>NaN</td>\n",
       "    </tr>\n",
       "  </tbody>\n",
       "</table>\n",
       "</div>"
      ],
      "text/plain": [
       "    auth_id  total_publications  total_active_year  no_of_paper_venues  \\\n",
       "0  0000635D                   2                  1                   1   \n",
       "1  00007F5E                   2                  2                   2   \n",
       "2  00007F65                   1                  1                   1   \n",
       "3  0001570C                  22                 14                   8   \n",
       "4  0001C195                   1                  1                   1   \n",
       "\n",
       "   h_index  \n",
       "0    0.000  \n",
       "1    0.250  \n",
       "2  214.381  \n",
       "3      NaN  \n",
       "4      NaN  "
      ]
     },
     "execution_count": 19,
     "metadata": {},
     "output_type": "execute_result"
    }
   ],
   "source": [
    "sql = 'select pa.author_ID, count(distinct p.paper_ID) count, count(distinct paper_published_year) active_years, count(distinct paper_venue_ID) venue,a.author_h_index from \\\n",
    "            Paper_Author_Affiliations_'+domain+' pa,Papers_'+domain+' p, Authors_'+domain+' a \\\n",
    "\t        where p.paper_ID =pa.paper_ID and a.author_ID = pa.author_ID group by pa.author_ID;'\n",
    "authors = dbExecute(cur,sql)\n",
    "authors = pd.DataFrame(authors,columns =['auth_id','total_publications','total_active_year','no_of_paper_venues','h_index'])\n",
    "authors.head()"
   ]
  },
  {
   "cell_type": "code",
   "execution_count": 26,
   "metadata": {
    "scrolled": true
   },
   "outputs": [
    {
     "name": "stdout",
     "output_type": "stream",
     "text": [
      "['Topic_10', 'Topic_12', 'Topic_19', 'Topic_20', 'Topic_22', 'Topic_23']\n",
      "Topic_10 Topic_12 0.8171616523216378 0.18283834767836218 0.27238721744054595\n",
      "Topic_10 Topic_19 0.9043301659428622 0.2785081817355 0.30144338864762077\n",
      "Topic_10 Topic_20 0.8029909952325376 0.4755171865029624 0.26766366507751255\n",
      "Topic_10 Topic_22 0.676923203776289 0.7985939827266734 0.22564106792542965\n",
      "Topic_10 Topic_23 0.9464298512967702 0.8521641314299032 0.3154766170989234\n",
      "Topic_12 Topic_19 0.9677860225696325 0.8843781088602707 0.10753178028551473\n",
      "Topic_12 Topic_20 0.9630007406220892 0.9213773682381815 0.10700008229134324\n",
      "Topic_12 Topic_22 0.873705767627152 1.0476716006110296 0.09707841862523911\n",
      "Topic_12 Topic_23 0.9850497479852678 1.0626218526257618 0.1094499719983631\n",
      "Topic_19 Topic_20 0.9458167744315551 1.1168050781942067 0.10509075271461724\n",
      "Topic_19 Topic_22 0.966836164018804 1.1499689141754026 0.10742624044653377\n",
      "Topic_19 Topic_23 0.990936640989095 1.1590322731863076 0.11010407122101055\n",
      "Topic_20 Topic_22 0.9342504989970465 1.2247817741892613 0.10380561099967184\n",
      "Topic_20 Topic_23 0.9921138328844138 1.2326679413048474 0.11023487032049042\n",
      "Topic_22 Topic_23 0.9357244330701039 1.2969435082347434 0.10396938145223376\n",
      "1.2969435082347434 2.4443031365450496\n"
     ]
    }
   ],
   "source": [
    "auth_id = '000CE250'\n",
    "x = 1 \n",
    "k = len(author_topic[auth_id])\n",
    "home_grown = 0\n",
    "sno =0\n",
    "pub_count = int(authors[authors['auth_id'] == auth_id]['total_publications'])\n",
    "sim = np.load('sim_mat.npy')\n",
    "print(list(author_topic[auth_id]))\n",
    "for i,i_count in author_topic[auth_id].items():\n",
    "    for j in list(author_topic[auth_id])[x:]:\n",
    "        j_count = author_topic[auth_id][j]\n",
    "        home_grown += sim[int(re.search('\\d+',i).group())][int(re.search('\\d+',j).group())]\n",
    "        d = 1-sim[int(re.search('\\d+',i).group())][int(re.search('\\d+',j).group())]\n",
    "        ss = d*i_count*j_count/(pub_count**2)\n",
    "        sno += ss\n",
    "        print(i,j,d,home_grown,ss)\n",
    "    x+=1\n",
    "print(home_grown,sno)"
   ]
  },
  {
   "cell_type": "code",
   "execution_count": 24,
   "metadata": {},
   "outputs": [
    {
     "data": {
      "text/plain": [
       "2.4443031365450496"
      ]
     },
     "execution_count": 24,
     "metadata": {},
     "output_type": "execute_result"
    }
   ],
   "source": []
  },
  {
   "cell_type": "code",
   "execution_count": 19,
   "metadata": {
    "scrolled": true
   },
   "outputs": [
    {
     "name": "stdout",
     "output_type": "stream",
     "text": [
      "61249\n",
      "Connection status: True\n",
      "266896\n"
     ]
    }
   ],
   "source": [
    "file = '../sterling_no.csv'\n",
    "if not path.exists(file):\n",
    "    print(\"Generating topics ans sterling numbers\")\n",
    "    sterling()\n",
    "df = pd.read_csv(file)\n",
    "authors = np.array(df[df['total_topics']>0]['author_id'])\n",
    "print(len(authors))\n",
    "\n",
    "#Get graph edges\n",
    "\n",
    "print('Connection status:',con.is_connected())\n",
    "sql = \"SELECT p1.paper_ID, p1.author_ID a1, p2.author_ID a2 \\\n",
    "    FROM Paper_Author_Affiliations_SE p1 \\\n",
    "    INNER JOIN Paper_Author_Affiliations_SE p2 ON p1.paper_ID = p2.paper_ID where p1.author_ID <> p2.author_ID;\"\n",
    "graph = dbExecute(cur,sql)\n",
    "graph = pd.DataFrame(graph, columns =['paper_ID', 'auth1', 'auth2']) \n",
    "# Remove authors with topics < 1\n",
    "graph = graph[graph.auth1.isin(authors) & graph.auth2.isin(authors)]\n",
    "\n",
    "#create edges\n",
    "graph = graph.groupby(by=['auth1','auth2']).size().reset_index(name='count')\n",
    "graph['edges'] = list(zip(graph['auth1'],graph['auth2']))\n",
    "graph[['edges']] = graph['edges'].apply(sorted)\n",
    "graph[['edges']] = graph['edges'].apply(tuple)\n",
    "\n",
    "#For undirected graph drop dupilcate edges\n",
    "undir_graph = graph.drop_duplicates(subset='edges',keep='first')\n",
    "\n",
    "print(len(graph))"
   ]
  },
  {
   "cell_type": "code",
   "execution_count": 20,
   "metadata": {},
   "outputs": [
    {
     "name": "stdout",
     "output_type": "stream",
     "text": [
      "133448\n"
     ]
    }
   ],
   "source": [
    "print(len(undir_graph))"
   ]
  },
  {
   "cell_type": "code",
   "execution_count": 22,
   "metadata": {},
   "outputs": [
    {
     "data": {
      "text/html": [
       "<div>\n",
       "<style scoped>\n",
       "    .dataframe tbody tr th:only-of-type {\n",
       "        vertical-align: middle;\n",
       "    }\n",
       "\n",
       "    .dataframe tbody tr th {\n",
       "        vertical-align: top;\n",
       "    }\n",
       "\n",
       "    .dataframe thead th {\n",
       "        text-align: right;\n",
       "    }\n",
       "</style>\n",
       "<table border=\"1\" class=\"dataframe\">\n",
       "  <thead>\n",
       "    <tr style=\"text-align: right;\">\n",
       "      <th></th>\n",
       "      <th>auth1</th>\n",
       "      <th>auth2</th>\n",
       "      <th>count</th>\n",
       "      <th>edges</th>\n",
       "    </tr>\n",
       "  </thead>\n",
       "  <tbody>\n",
       "    <tr>\n",
       "      <th>77144</th>\n",
       "      <td>10A7022B</td>\n",
       "      <td>1547BE9B</td>\n",
       "      <td>42</td>\n",
       "      <td>(10A7022B, 1547BE9B)</td>\n",
       "    </tr>\n",
       "    <tr>\n",
       "      <th>77145</th>\n",
       "      <td>10A7022B</td>\n",
       "      <td>16312CC3</td>\n",
       "      <td>3</td>\n",
       "      <td>(10A7022B, 16312CC3)</td>\n",
       "    </tr>\n",
       "    <tr>\n",
       "      <th>77146</th>\n",
       "      <td>10A7022B</td>\n",
       "      <td>16E317AA</td>\n",
       "      <td>1</td>\n",
       "      <td>(10A7022B, 16E317AA)</td>\n",
       "    </tr>\n",
       "    <tr>\n",
       "      <th>77147</th>\n",
       "      <td>10A7022B</td>\n",
       "      <td>1816FCAD</td>\n",
       "      <td>1</td>\n",
       "      <td>(10A7022B, 1816FCAD)</td>\n",
       "    </tr>\n",
       "    <tr>\n",
       "      <th>77148</th>\n",
       "      <td>10A7022B</td>\n",
       "      <td>18CD1F32</td>\n",
       "      <td>4</td>\n",
       "      <td>(10A7022B, 18CD1F32)</td>\n",
       "    </tr>\n",
       "    <tr>\n",
       "      <th>77149</th>\n",
       "      <td>10A7022B</td>\n",
       "      <td>1980D790</td>\n",
       "      <td>1</td>\n",
       "      <td>(10A7022B, 1980D790)</td>\n",
       "    </tr>\n",
       "  </tbody>\n",
       "</table>\n",
       "</div>"
      ],
      "text/plain": [
       "          auth1     auth2  count                 edges\n",
       "77144  10A7022B  1547BE9B     42  (10A7022B, 1547BE9B)\n",
       "77145  10A7022B  16312CC3      3  (10A7022B, 16312CC3)\n",
       "77146  10A7022B  16E317AA      1  (10A7022B, 16E317AA)\n",
       "77147  10A7022B  1816FCAD      1  (10A7022B, 1816FCAD)\n",
       "77148  10A7022B  18CD1F32      4  (10A7022B, 18CD1F32)\n",
       "77149  10A7022B  1980D790      1  (10A7022B, 1980D790)"
      ]
     },
     "execution_count": 22,
     "metadata": {},
     "output_type": "execute_result"
    }
   ],
   "source": [
    "undir_graph[undir_graph['auth1']=='10A7022B']"
   ]
  },
  {
   "cell_type": "code",
   "execution_count": 182,
   "metadata": {},
   "outputs": [],
   "source": [
    "import pandas as pd\n",
    "df = pd.DataFrame(d)"
   ]
  },
  {
   "cell_type": "code",
   "execution_count": 183,
   "metadata": {},
   "outputs": [
    {
     "data": {
      "text/html": [
       "<div>\n",
       "<style scoped>\n",
       "    .dataframe tbody tr th:only-of-type {\n",
       "        vertical-align: middle;\n",
       "    }\n",
       "\n",
       "    .dataframe tbody tr th {\n",
       "        vertical-align: top;\n",
       "    }\n",
       "\n",
       "    .dataframe thead th {\n",
       "        text-align: right;\n",
       "    }\n",
       "</style>\n",
       "<table border=\"1\" class=\"dataframe\">\n",
       "  <thead>\n",
       "    <tr style=\"text-align: right;\">\n",
       "      <th></th>\n",
       "      <th>s</th>\n",
       "      <th>f</th>\n",
       "    </tr>\n",
       "  </thead>\n",
       "  <tbody>\n",
       "    <tr>\n",
       "      <th>0</th>\n",
       "      <td>45</td>\n",
       "      <td>52</td>\n",
       "    </tr>\n",
       "    <tr>\n",
       "      <th>1</th>\n",
       "      <td>4</td>\n",
       "      <td>2</td>\n",
       "    </tr>\n",
       "  </tbody>\n",
       "</table>\n",
       "</div>"
      ],
      "text/plain": [
       "    s   f\n",
       "0  45  52\n",
       "1   4   2"
      ]
     },
     "execution_count": 183,
     "metadata": {},
     "output_type": "execute_result"
    }
   ],
   "source": [
    "df"
   ]
  },
  {
   "cell_type": "code",
   "execution_count": 181,
   "metadata": {},
   "outputs": [
    {
     "data": {
      "text/plain": [
       "[{'s': 45, 'f': 52}, {'s': 4, 'f': 2}]"
      ]
     },
     "execution_count": 181,
     "metadata": {},
     "output_type": "execute_result"
    }
   ],
   "source": [
    "d"
   ]
  },
  {
   "cell_type": "code",
   "execution_count": null,
   "metadata": {},
   "outputs": [],
   "source": []
  }
 ],
 "metadata": {
  "kernelspec": {
   "display_name": "Python 3",
   "language": "python",
   "name": "python3"
  },
  "language_info": {
   "codemirror_mode": {
    "name": "ipython",
    "version": 3
   },
   "file_extension": ".py",
   "mimetype": "text/x-python",
   "name": "python",
   "nbconvert_exporter": "python",
   "pygments_lexer": "ipython3",
   "version": "3.7.3"
  }
 },
 "nbformat": 4,
 "nbformat_minor": 2
}
